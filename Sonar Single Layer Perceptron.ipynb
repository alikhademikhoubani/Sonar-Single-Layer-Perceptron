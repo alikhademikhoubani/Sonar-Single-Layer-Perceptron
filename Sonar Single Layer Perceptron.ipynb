{
 "cells": [
  {
   "cell_type": "code",
   "execution_count": 169,
   "id": "2ae7c03d",
   "metadata": {},
   "outputs": [],
   "source": [
    "import matplotlib.pyplot as plt\n",
    "import tensorflow as tf\n",
    "import numpy as np\n",
    "import pandas as pd\n",
    "from sklearn.preprocessing import LabelEncoder\n",
    "from sklearn.utils import shuffle\n",
    "from sklearn.model_selection import train_test_split\n",
    "from sklearn.preprocessing import OneHotEncoder\n",
    "from imblearn.over_sampling import SMOTE\n",
    "\n",
    "tf.compat.v1.disable_eager_execution()"
   ]
  },
  {
   "cell_type": "code",
   "execution_count": 170,
   "id": "35778c27",
   "metadata": {},
   "outputs": [
    {
     "name": "stdout",
     "output_type": "stream",
     "text": [
      "61\n"
     ]
    }
   ],
   "source": [
    "df=pd.read_csv('sonar data.csv',header=None)\n",
    "print(len(df.columns))"
   ]
  },
  {
   "cell_type": "code",
   "execution_count": 171,
   "id": "8549c310",
   "metadata": {},
   "outputs": [
    {
     "data": {
      "text/html": [
       "<div>\n",
       "<style scoped>\n",
       "    .dataframe tbody tr th:only-of-type {\n",
       "        vertical-align: middle;\n",
       "    }\n",
       "\n",
       "    .dataframe tbody tr th {\n",
       "        vertical-align: top;\n",
       "    }\n",
       "\n",
       "    .dataframe thead th {\n",
       "        text-align: right;\n",
       "    }\n",
       "</style>\n",
       "<table border=\"1\" class=\"dataframe\">\n",
       "  <thead>\n",
       "    <tr style=\"text-align: right;\">\n",
       "      <th></th>\n",
       "      <th>0</th>\n",
       "      <th>1</th>\n",
       "      <th>2</th>\n",
       "      <th>3</th>\n",
       "      <th>4</th>\n",
       "      <th>5</th>\n",
       "      <th>6</th>\n",
       "      <th>7</th>\n",
       "      <th>8</th>\n",
       "      <th>9</th>\n",
       "      <th>...</th>\n",
       "      <th>51</th>\n",
       "      <th>52</th>\n",
       "      <th>53</th>\n",
       "      <th>54</th>\n",
       "      <th>55</th>\n",
       "      <th>56</th>\n",
       "      <th>57</th>\n",
       "      <th>58</th>\n",
       "      <th>59</th>\n",
       "      <th>60</th>\n",
       "    </tr>\n",
       "  </thead>\n",
       "  <tbody>\n",
       "    <tr>\n",
       "      <th>0</th>\n",
       "      <td>0.0200</td>\n",
       "      <td>0.0371</td>\n",
       "      <td>0.0428</td>\n",
       "      <td>0.0207</td>\n",
       "      <td>0.0954</td>\n",
       "      <td>0.0986</td>\n",
       "      <td>0.1539</td>\n",
       "      <td>0.1601</td>\n",
       "      <td>0.3109</td>\n",
       "      <td>0.2111</td>\n",
       "      <td>...</td>\n",
       "      <td>0.0027</td>\n",
       "      <td>0.0065</td>\n",
       "      <td>0.0159</td>\n",
       "      <td>0.0072</td>\n",
       "      <td>0.0167</td>\n",
       "      <td>0.0180</td>\n",
       "      <td>0.0084</td>\n",
       "      <td>0.0090</td>\n",
       "      <td>0.0032</td>\n",
       "      <td>R</td>\n",
       "    </tr>\n",
       "    <tr>\n",
       "      <th>1</th>\n",
       "      <td>0.0453</td>\n",
       "      <td>0.0523</td>\n",
       "      <td>0.0843</td>\n",
       "      <td>0.0689</td>\n",
       "      <td>0.1183</td>\n",
       "      <td>0.2583</td>\n",
       "      <td>0.2156</td>\n",
       "      <td>0.3481</td>\n",
       "      <td>0.3337</td>\n",
       "      <td>0.2872</td>\n",
       "      <td>...</td>\n",
       "      <td>0.0084</td>\n",
       "      <td>0.0089</td>\n",
       "      <td>0.0048</td>\n",
       "      <td>0.0094</td>\n",
       "      <td>0.0191</td>\n",
       "      <td>0.0140</td>\n",
       "      <td>0.0049</td>\n",
       "      <td>0.0052</td>\n",
       "      <td>0.0044</td>\n",
       "      <td>R</td>\n",
       "    </tr>\n",
       "    <tr>\n",
       "      <th>2</th>\n",
       "      <td>0.0262</td>\n",
       "      <td>0.0582</td>\n",
       "      <td>0.1099</td>\n",
       "      <td>0.1083</td>\n",
       "      <td>0.0974</td>\n",
       "      <td>0.2280</td>\n",
       "      <td>0.2431</td>\n",
       "      <td>0.3771</td>\n",
       "      <td>0.5598</td>\n",
       "      <td>0.6194</td>\n",
       "      <td>...</td>\n",
       "      <td>0.0232</td>\n",
       "      <td>0.0166</td>\n",
       "      <td>0.0095</td>\n",
       "      <td>0.0180</td>\n",
       "      <td>0.0244</td>\n",
       "      <td>0.0316</td>\n",
       "      <td>0.0164</td>\n",
       "      <td>0.0095</td>\n",
       "      <td>0.0078</td>\n",
       "      <td>R</td>\n",
       "    </tr>\n",
       "    <tr>\n",
       "      <th>3</th>\n",
       "      <td>0.0100</td>\n",
       "      <td>0.0171</td>\n",
       "      <td>0.0623</td>\n",
       "      <td>0.0205</td>\n",
       "      <td>0.0205</td>\n",
       "      <td>0.0368</td>\n",
       "      <td>0.1098</td>\n",
       "      <td>0.1276</td>\n",
       "      <td>0.0598</td>\n",
       "      <td>0.1264</td>\n",
       "      <td>...</td>\n",
       "      <td>0.0121</td>\n",
       "      <td>0.0036</td>\n",
       "      <td>0.0150</td>\n",
       "      <td>0.0085</td>\n",
       "      <td>0.0073</td>\n",
       "      <td>0.0050</td>\n",
       "      <td>0.0044</td>\n",
       "      <td>0.0040</td>\n",
       "      <td>0.0117</td>\n",
       "      <td>R</td>\n",
       "    </tr>\n",
       "    <tr>\n",
       "      <th>4</th>\n",
       "      <td>0.0762</td>\n",
       "      <td>0.0666</td>\n",
       "      <td>0.0481</td>\n",
       "      <td>0.0394</td>\n",
       "      <td>0.0590</td>\n",
       "      <td>0.0649</td>\n",
       "      <td>0.1209</td>\n",
       "      <td>0.2467</td>\n",
       "      <td>0.3564</td>\n",
       "      <td>0.4459</td>\n",
       "      <td>...</td>\n",
       "      <td>0.0031</td>\n",
       "      <td>0.0054</td>\n",
       "      <td>0.0105</td>\n",
       "      <td>0.0110</td>\n",
       "      <td>0.0015</td>\n",
       "      <td>0.0072</td>\n",
       "      <td>0.0048</td>\n",
       "      <td>0.0107</td>\n",
       "      <td>0.0094</td>\n",
       "      <td>R</td>\n",
       "    </tr>\n",
       "  </tbody>\n",
       "</table>\n",
       "<p>5 rows × 61 columns</p>\n",
       "</div>"
      ],
      "text/plain": [
       "       0       1       2       3       4       5       6       7       8   \\\n",
       "0  0.0200  0.0371  0.0428  0.0207  0.0954  0.0986  0.1539  0.1601  0.3109   \n",
       "1  0.0453  0.0523  0.0843  0.0689  0.1183  0.2583  0.2156  0.3481  0.3337   \n",
       "2  0.0262  0.0582  0.1099  0.1083  0.0974  0.2280  0.2431  0.3771  0.5598   \n",
       "3  0.0100  0.0171  0.0623  0.0205  0.0205  0.0368  0.1098  0.1276  0.0598   \n",
       "4  0.0762  0.0666  0.0481  0.0394  0.0590  0.0649  0.1209  0.2467  0.3564   \n",
       "\n",
       "       9   ...      51      52      53      54      55      56      57  \\\n",
       "0  0.2111  ...  0.0027  0.0065  0.0159  0.0072  0.0167  0.0180  0.0084   \n",
       "1  0.2872  ...  0.0084  0.0089  0.0048  0.0094  0.0191  0.0140  0.0049   \n",
       "2  0.6194  ...  0.0232  0.0166  0.0095  0.0180  0.0244  0.0316  0.0164   \n",
       "3  0.1264  ...  0.0121  0.0036  0.0150  0.0085  0.0073  0.0050  0.0044   \n",
       "4  0.4459  ...  0.0031  0.0054  0.0105  0.0110  0.0015  0.0072  0.0048   \n",
       "\n",
       "       58      59  60  \n",
       "0  0.0090  0.0032   R  \n",
       "1  0.0052  0.0044   R  \n",
       "2  0.0095  0.0078   R  \n",
       "3  0.0040  0.0117   R  \n",
       "4  0.0107  0.0094   R  \n",
       "\n",
       "[5 rows x 61 columns]"
      ]
     },
     "execution_count": 171,
     "metadata": {},
     "output_type": "execute_result"
    }
   ],
   "source": [
    "df.head() # Each number represents the energy within a particular frequency band"
   ]
  },
  {
   "cell_type": "code",
   "execution_count": 172,
   "id": "5f02cd72",
   "metadata": {},
   "outputs": [
    {
     "name": "stdout",
     "output_type": "stream",
     "text": [
      "<class 'pandas.core.frame.DataFrame'>\n",
      "RangeIndex: 208 entries, 0 to 207\n",
      "Data columns (total 61 columns):\n",
      " #   Column  Non-Null Count  Dtype  \n",
      "---  ------  --------------  -----  \n",
      " 0   0       208 non-null    float64\n",
      " 1   1       208 non-null    float64\n",
      " 2   2       208 non-null    float64\n",
      " 3   3       208 non-null    float64\n",
      " 4   4       208 non-null    float64\n",
      " 5   5       208 non-null    float64\n",
      " 6   6       208 non-null    float64\n",
      " 7   7       208 non-null    float64\n",
      " 8   8       208 non-null    float64\n",
      " 9   9       208 non-null    float64\n",
      " 10  10      208 non-null    float64\n",
      " 11  11      208 non-null    float64\n",
      " 12  12      208 non-null    float64\n",
      " 13  13      208 non-null    float64\n",
      " 14  14      208 non-null    float64\n",
      " 15  15      208 non-null    float64\n",
      " 16  16      208 non-null    float64\n",
      " 17  17      208 non-null    float64\n",
      " 18  18      208 non-null    float64\n",
      " 19  19      208 non-null    float64\n",
      " 20  20      208 non-null    float64\n",
      " 21  21      208 non-null    float64\n",
      " 22  22      208 non-null    float64\n",
      " 23  23      208 non-null    float64\n",
      " 24  24      208 non-null    float64\n",
      " 25  25      208 non-null    float64\n",
      " 26  26      208 non-null    float64\n",
      " 27  27      208 non-null    float64\n",
      " 28  28      208 non-null    float64\n",
      " 29  29      208 non-null    float64\n",
      " 30  30      208 non-null    float64\n",
      " 31  31      208 non-null    float64\n",
      " 32  32      208 non-null    float64\n",
      " 33  33      208 non-null    float64\n",
      " 34  34      208 non-null    float64\n",
      " 35  35      208 non-null    float64\n",
      " 36  36      208 non-null    float64\n",
      " 37  37      208 non-null    float64\n",
      " 38  38      208 non-null    float64\n",
      " 39  39      208 non-null    float64\n",
      " 40  40      208 non-null    float64\n",
      " 41  41      208 non-null    float64\n",
      " 42  42      208 non-null    float64\n",
      " 43  43      208 non-null    float64\n",
      " 44  44      208 non-null    float64\n",
      " 45  45      208 non-null    float64\n",
      " 46  46      208 non-null    float64\n",
      " 47  47      208 non-null    float64\n",
      " 48  48      208 non-null    float64\n",
      " 49  49      208 non-null    float64\n",
      " 50  50      208 non-null    float64\n",
      " 51  51      208 non-null    float64\n",
      " 52  52      208 non-null    float64\n",
      " 53  53      208 non-null    float64\n",
      " 54  54      208 non-null    float64\n",
      " 55  55      208 non-null    float64\n",
      " 56  56      208 non-null    float64\n",
      " 57  57      208 non-null    float64\n",
      " 58  58      208 non-null    float64\n",
      " 59  59      208 non-null    float64\n",
      " 60  60      208 non-null    object \n",
      "dtypes: float64(60), object(1)\n",
      "memory usage: 99.2+ KB\n"
     ]
    }
   ],
   "source": [
    "df.info()"
   ]
  },
  {
   "cell_type": "code",
   "execution_count": 173,
   "id": "ecc69a68",
   "metadata": {},
   "outputs": [
    {
     "data": {
      "text/plain": [
       "0     0\n",
       "1     0\n",
       "2     0\n",
       "3     0\n",
       "4     0\n",
       "     ..\n",
       "56    0\n",
       "57    0\n",
       "58    0\n",
       "59    0\n",
       "60    0\n",
       "Length: 61, dtype: int64"
      ]
     },
     "execution_count": 173,
     "metadata": {},
     "output_type": "execute_result"
    }
   ],
   "source": [
    "df.isnull().sum()"
   ]
  },
  {
   "cell_type": "code",
   "execution_count": 174,
   "id": "2d46c0f5",
   "metadata": {},
   "outputs": [
    {
     "data": {
      "text/plain": [
       "False"
      ]
     },
     "execution_count": 174,
     "metadata": {},
     "output_type": "execute_result"
    }
   ],
   "source": [
    "df.isnull().values.any()"
   ]
  },
  {
   "cell_type": "code",
   "execution_count": 175,
   "id": "a16f81c0",
   "metadata": {},
   "outputs": [],
   "source": [
    "X=df[df.columns[0:60]].values\n",
    "y=df[df.columns[60]]"
   ]
  },
  {
   "cell_type": "code",
   "execution_count": 176,
   "id": "556f10d4",
   "metadata": {},
   "outputs": [
    {
     "data": {
      "text/plain": [
       "array([[0.02  , 0.0371, 0.0428, ..., 0.0084, 0.009 , 0.0032],\n",
       "       [0.0453, 0.0523, 0.0843, ..., 0.0049, 0.0052, 0.0044],\n",
       "       [0.0262, 0.0582, 0.1099, ..., 0.0164, 0.0095, 0.0078],\n",
       "       ...,\n",
       "       [0.0522, 0.0437, 0.018 , ..., 0.0138, 0.0077, 0.0031],\n",
       "       [0.0303, 0.0353, 0.049 , ..., 0.0079, 0.0036, 0.0048],\n",
       "       [0.026 , 0.0363, 0.0136, ..., 0.0036, 0.0061, 0.0115]])"
      ]
     },
     "execution_count": 176,
     "metadata": {},
     "output_type": "execute_result"
    }
   ],
   "source": [
    "X"
   ]
  },
  {
   "cell_type": "code",
   "execution_count": 177,
   "id": "d3c2c7b8",
   "metadata": {},
   "outputs": [
    {
     "data": {
      "text/plain": [
       "0      R\n",
       "1      R\n",
       "2      R\n",
       "3      R\n",
       "4      R\n",
       "      ..\n",
       "203    M\n",
       "204    M\n",
       "205    M\n",
       "206    M\n",
       "207    M\n",
       "Name: 60, Length: 208, dtype: object"
      ]
     },
     "execution_count": 177,
     "metadata": {},
     "output_type": "execute_result"
    }
   ],
   "source": [
    "y"
   ]
  },
  {
   "cell_type": "code",
   "execution_count": 178,
   "id": "90bb9fd3",
   "metadata": {},
   "outputs": [
    {
     "data": {
      "text/plain": [
       "M    111\n",
       "R     97\n",
       "Name: 60, dtype: int64"
      ]
     },
     "execution_count": 178,
     "metadata": {},
     "output_type": "execute_result"
    }
   ],
   "source": [
    "y.value_counts()"
   ]
  },
  {
   "cell_type": "code",
   "execution_count": 179,
   "id": "465d4689",
   "metadata": {},
   "outputs": [],
   "source": [
    "le=LabelEncoder()\n",
    "y=le.fit_transform(y)"
   ]
  },
  {
   "cell_type": "code",
   "execution_count": 180,
   "id": "afaac562",
   "metadata": {},
   "outputs": [],
   "source": [
    "y=np.array(y)\n",
    "y=y.reshape(-1,1)\n",
    "ohe=OneHotEncoder()\n",
    "y=ohe.fit_transform(y).toarray()"
   ]
  },
  {
   "cell_type": "code",
   "execution_count": 182,
   "id": "6985aa00",
   "metadata": {
    "scrolled": true
   },
   "outputs": [
    {
     "data": {
      "text/plain": [
       "array([[0., 1.],\n",
       "       [0., 1.],\n",
       "       [0., 1.],\n",
       "       [0., 1.],\n",
       "       [0., 1.]])"
      ]
     },
     "execution_count": 182,
     "metadata": {},
     "output_type": "execute_result"
    }
   ],
   "source": [
    "y[:5]"
   ]
  },
  {
   "cell_type": "code",
   "execution_count": 183,
   "id": "a06fd846",
   "metadata": {},
   "outputs": [],
   "source": [
    "X_train,X_test,y_train,y_test=train_test_split(X,y,test_size=0.2,random_state=42)"
   ]
  },
  {
   "cell_type": "code",
   "execution_count": 184,
   "id": "533525c7",
   "metadata": {},
   "outputs": [
    {
     "data": {
      "text/plain": [
       "(166, 60)"
      ]
     },
     "execution_count": 184,
     "metadata": {},
     "output_type": "execute_result"
    }
   ],
   "source": [
    "X_train.shape"
   ]
  },
  {
   "cell_type": "code",
   "execution_count": 185,
   "id": "a1bca36d",
   "metadata": {},
   "outputs": [
    {
     "data": {
      "text/plain": [
       "(42, 60)"
      ]
     },
     "execution_count": 185,
     "metadata": {},
     "output_type": "execute_result"
    }
   ],
   "source": [
    "X_test.shape"
   ]
  },
  {
   "cell_type": "code",
   "execution_count": 186,
   "id": "2983f2a6",
   "metadata": {},
   "outputs": [],
   "source": [
    "learning_rate=0.01\n",
    "training_epochs=100\n",
    "cost_history=np.empty(shape=[1],dtype='float')"
   ]
  },
  {
   "cell_type": "code",
   "execution_count": 187,
   "id": "ed7b85a5",
   "metadata": {},
   "outputs": [],
   "source": [
    "n_class=2 # Rock and Mine\n",
    "x=tf.compat.v1.placeholder(tf.float32,[None,60])\n",
    "w=tf.Variable(tf.zeros([60,n_class]))\n",
    "b=tf.Variable(tf.zeros([n_class]))"
   ]
  },
  {
   "cell_type": "code",
   "execution_count": 188,
   "id": "a3b61a05",
   "metadata": {},
   "outputs": [],
   "source": [
    "# initialize all variable\n",
    "# init=tf.global_variables_initializer()\n",
    "init=tf.compat.v1.global_variables_initializer()"
   ]
  },
  {
   "cell_type": "code",
   "execution_count": 189,
   "id": "8444290d",
   "metadata": {},
   "outputs": [],
   "source": [
    "y=tf.compat.v1.placeholder(tf.float32,[None,n_class]) # actual y\n",
    "pred=tf.nn.softmax(tf.matmul(x,w)+b) #predicted y"
   ]
  },
  {
   "cell_type": "code",
   "execution_count": 190,
   "id": "c3d1ddfa",
   "metadata": {},
   "outputs": [],
   "source": [
    "cost_function=tf.reduce_mean(-tf.reduce_sum((y*tf.math.log(pred)))) # claculating rmse"
   ]
  },
  {
   "cell_type": "code",
   "execution_count": 191,
   "id": "757d0ecb",
   "metadata": {},
   "outputs": [],
   "source": [
    "# tf.compat.v1.disable_v2_behavior()\n",
    "training_step=tf.compat.v1.train.GradientDescentOptimizer(learning_rate).minimize(cost_function)"
   ]
  },
  {
   "cell_type": "code",
   "execution_count": 192,
   "id": "f25024b2",
   "metadata": {},
   "outputs": [],
   "source": [
    "# initialize the session\n",
    "sess=tf.compat.v1.Session()\n",
    "sess.run(init)\n",
    "mse_history=[]"
   ]
  },
  {
   "cell_type": "code",
   "execution_count": 193,
   "id": "2b0597bb",
   "metadata": {},
   "outputs": [
    {
     "name": "stdout",
     "output_type": "stream",
     "text": [
      "epoch :  0  -  cost:  117.10058\n",
      "epoch :  1  -  cost:  297.08432\n",
      "epoch :  2  -  cost:  857.899\n",
      "epoch :  3  -  cost:  253.21394\n",
      "epoch :  4  -  cost:  838.73193\n",
      "epoch :  5  -  cost:  253.43782\n",
      "epoch :  6  -  cost:  820.8214\n",
      "epoch :  7  -  cost:  253.01492\n",
      "epoch :  8  -  cost:  799.34644\n",
      "epoch :  9  -  cost:  256.6348\n",
      "epoch :  10  -  cost:  776.8245\n",
      "epoch :  11  -  cost:  261.6653\n",
      "epoch :  12  -  cost:  752.83057\n",
      "epoch :  13  -  cost:  268.38766\n",
      "epoch :  14  -  cost:  727.9612\n",
      "epoch :  15  -  cost:  276.00473\n",
      "epoch :  16  -  cost:  702.3457\n",
      "epoch :  17  -  cost:  284.0862\n",
      "epoch :  18  -  cost:  676.3038\n",
      "epoch :  19  -  cost:  291.92877\n",
      "epoch :  20  -  cost:  650.1423\n",
      "epoch :  21  -  cost:  298.9125\n",
      "epoch :  22  -  cost:  624.2649\n",
      "epoch :  23  -  cost:  304.65262\n",
      "epoch :  24  -  cost:  599.0927\n",
      "epoch :  25  -  cost:  309.1291\n",
      "epoch :  26  -  cost:  574.98737\n",
      "epoch :  27  -  cost:  312.50693\n",
      "epoch :  28  -  cost:  552.1724\n",
      "epoch :  29  -  cost:  314.89877\n",
      "epoch :  30  -  cost:  530.71924\n",
      "epoch :  31  -  cost:  316.25552\n",
      "epoch :  32  -  cost:  510.59433\n",
      "epoch :  33  -  cost:  316.52402\n",
      "epoch :  34  -  cost:  491.75363\n",
      "epoch :  35  -  cost:  315.8363\n",
      "epoch :  36  -  cost:  474.19672\n",
      "epoch :  37  -  cost:  314.47534\n",
      "epoch :  38  -  cost:  457.9303\n",
      "epoch :  39  -  cost:  312.70132\n",
      "epoch :  40  -  cost:  442.90848\n",
      "epoch :  41  -  cost:  310.6492\n",
      "epoch :  42  -  cost:  429.0223\n",
      "epoch :  43  -  cost:  308.34805\n",
      "epoch :  44  -  cost:  416.13553\n",
      "epoch :  45  -  cost:  305.78522\n",
      "epoch :  46  -  cost:  404.12265\n",
      "epoch :  47  -  cost:  302.9512\n",
      "epoch :  48  -  cost:  392.88354\n",
      "epoch :  49  -  cost:  299.85806\n",
      "epoch :  50  -  cost:  382.34158\n",
      "epoch :  51  -  cost:  296.5417\n",
      "epoch :  52  -  cost:  372.43466\n",
      "epoch :  53  -  cost:  293.05505\n",
      "epoch :  54  -  cost:  363.10812\n",
      "epoch :  55  -  cost:  289.45724\n",
      "epoch :  56  -  cost:  354.31015\n",
      "epoch :  57  -  cost:  285.80286\n",
      "epoch :  58  -  cost:  345.99075\n",
      "epoch :  59  -  cost:  282.13443\n",
      "epoch :  60  -  cost:  338.10214\n",
      "epoch :  61  -  cost:  278.48007\n",
      "epoch :  62  -  cost:  330.60144\n",
      "epoch :  63  -  cost:  274.85562\n",
      "epoch :  64  -  cost:  323.45276\n",
      "epoch :  65  -  cost:  271.268\n",
      "epoch :  66  -  cost:  316.62943\n",
      "epoch :  67  -  cost:  267.72025\n",
      "epoch :  68  -  cost:  310.1149\n",
      "epoch :  69  -  cost:  264.2151\n",
      "epoch :  70  -  cost:  303.90244\n",
      "epoch :  71  -  cost:  260.75723\n",
      "epoch :  72  -  cost:  297.9922\n",
      "epoch :  73  -  cost:  257.3545\n",
      "epoch :  74  -  cost:  292.38846\n",
      "epoch :  75  -  cost:  254.01715\n",
      "epoch :  76  -  cost:  287.09586\n",
      "epoch :  77  -  cost:  250.75694\n",
      "epoch :  78  -  cost:  282.11627\n",
      "epoch :  79  -  cost:  247.58531\n",
      "epoch :  80  -  cost:  277.44748\n",
      "epoch :  81  -  cost:  244.51202\n",
      "epoch :  82  -  cost:  273.0817\n",
      "epoch :  83  -  cost:  241.54442\n",
      "epoch :  84  -  cost:  269.0066\n",
      "epoch :  85  -  cost:  238.68668\n",
      "epoch :  86  -  cost:  265.20596\n",
      "epoch :  87  -  cost:  235.94052\n",
      "epoch :  88  -  cost:  261.661\n",
      "epoch :  89  -  cost:  233.30515\n",
      "epoch :  90  -  cost:  258.35196\n",
      "epoch :  91  -  cost:  230.7779\n",
      "epoch :  92  -  cost:  255.25842\n",
      "epoch :  93  -  cost:  228.35498\n",
      "epoch :  94  -  cost:  252.36096\n",
      "epoch :  95  -  cost:  226.03175\n",
      "epoch :  96  -  cost:  249.64114\n",
      "epoch :  97  -  cost:  223.80327\n",
      "epoch :  98  -  cost:  247.08188\n",
      "epoch :  99  -  cost:  221.66432\n"
     ]
    }
   ],
   "source": [
    "# calculate the cost for each epoch\n",
    "for i in range(training_epochs):\n",
    "    sess.run(training_step,feed_dict=({x:X_train,y:y_train}))\n",
    "    cost=sess.run(cost_function,feed_dict={x:X_train,y:y_train})\n",
    "    cost_history=np.append(cost_history,cost)\n",
    "    # after above 3 lines wights get updated and once we have updated weights we will evaluate the test data set.\n",
    "    pred_y=sess.run(pred,feed_dict={x:X_test})\n",
    "    print('epoch : ',i,' - ','cost: ',cost) # printing cost or error associated with each epoch\n",
    "    # we want to calculate the mean squared error now\n",
    "    mse=tf.reduce_mean(tf.square(pred_y-y_test)) # y_test is the actual output and pred_y is the predicted output\n",
    "    mse_history.append(sess.run(mse))"
   ]
  }
 ],
 "metadata": {
  "kernelspec": {
   "display_name": "Python 3 (ipykernel)",
   "language": "python",
   "name": "python3"
  },
  "language_info": {
   "codemirror_mode": {
    "name": "ipython",
    "version": 3
   },
   "file_extension": ".py",
   "mimetype": "text/x-python",
   "name": "python",
   "nbconvert_exporter": "python",
   "pygments_lexer": "ipython3",
   "version": "3.10.5"
  }
 },
 "nbformat": 4,
 "nbformat_minor": 5
}
